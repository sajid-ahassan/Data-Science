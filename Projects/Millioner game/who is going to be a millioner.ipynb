{
 "cells": [
  {
   "cell_type": "code",
   "execution_count": 25,
   "id": "ff408e22-9f94-4311-ac0f-faf7f4e521ed",
   "metadata": {},
   "outputs": [
    {
     "name": "stdout",
     "output_type": "stream",
     "text": [
      "person 1 you are in \n",
      "\n",
      "person 1 , do you want to play? If yes ender 1 else 0\n",
      "\n"
     ]
    },
    {
     "name": "stdin",
     "output_type": "stream",
     "text": [
      "Enter  1\n"
     ]
    },
    {
     "name": "stdout",
     "output_type": "stream",
     "text": [
      "Question no 1\n",
      "\n",
      "What is my name?\n",
      "a. Sajid\n",
      "b. Tasin\n",
      "c. Ashik\n",
      "\n"
     ]
    },
    {
     "name": "stdin",
     "output_type": "stream",
     "text": [
      "Enter answer  a\n"
     ]
    },
    {
     "name": "stdout",
     "output_type": "stream",
     "text": [
      "Correct Answer\n",
      "\n",
      "Question no 2\n",
      "\n",
      "What is my age?\n",
      "a. 12\n",
      "b. 21\n",
      "c. 25\n",
      "\n"
     ]
    },
    {
     "name": "stdin",
     "output_type": "stream",
     "text": [
      "Enter answer  b\n"
     ]
    },
    {
     "name": "stdout",
     "output_type": "stream",
     "text": [
      "Correct Answer\n",
      "\n",
      "person 2 you are in \n",
      "\n",
      "person 2 , do you want to play? If yes ender 1 else 0\n",
      "\n"
     ]
    },
    {
     "name": "stdin",
     "output_type": "stream",
     "text": [
      "Enter  1\n"
     ]
    },
    {
     "name": "stdout",
     "output_type": "stream",
     "text": [
      "Question no 1\n",
      "\n",
      "What is my Brothers name?\n",
      "a. Sajid\n",
      "b. Tasin\n",
      "c. Ashik\n",
      "\n"
     ]
    },
    {
     "name": "stdin",
     "output_type": "stream",
     "text": [
      "Enter answer  a\n"
     ]
    },
    {
     "name": "stdout",
     "output_type": "stream",
     "text": [
      "Answer is not correct\n",
      "\n",
      "Question no 2\n",
      "\n",
      "What is my Brothers age?\n",
      "a. 12\n",
      "b. 21\n",
      "c. 25\n",
      "\n"
     ]
    },
    {
     "name": "stdin",
     "output_type": "stream",
     "text": [
      "Enter answer  b\n"
     ]
    },
    {
     "name": "stdout",
     "output_type": "stream",
     "text": [
      "Answer is not correct\n",
      "\n",
      "{'person 1': 30000, 'person 2': 0}\n",
      "The winner is person 1, who wins 30000\n"
     ]
    }
   ],
   "source": [
    "def play(cand,sm = 0):\n",
    "    dct = {};\n",
    "    for player in cand:\n",
    "        print(f\"{player} you are in \\n\")\n",
    "        print(f\"{player} , do you want to play? If yes ender 1 else 0\\n\")\n",
    "        n = input(\"Enter \")\n",
    "        if(n == \"0\"):\n",
    "            continue;\n",
    "        sm = 0;\n",
    "        k = 0;\n",
    "        for qus in cand[player][0]:\n",
    "            print(f\"Question no {k+1}\\n\")\n",
    "            print(qus);\n",
    "            s = input(\"Enter answer \");\n",
    "            if(s.lower() == cand[player][1][k]):\n",
    "                print(\"Correct Answer\\n\");\n",
    "                sm+=cand[player][2][k]\n",
    "            else:\n",
    "                print(\"Answer is not correct\\n\")\n",
    "            k+=1;\n",
    "        dct[player] = sm;\n",
    "    return dct;\n",
    "        \n",
    "\n",
    "candidate = {\"person 1\": [[\"What is my name?\\na. Sajid\\nb. Tasin\\nc. Ashik\\n\",\"What is my age?\\na. 12\\nb. 21\\nc. 25\\n\"],\n",
    "                         [\"a\",\"b\"],\n",
    "                          [10000,20000]],\n",
    "            \"person 2\": [[\"What is my Brothers name?\\na. Sajid\\nb. Tasin\\nc. Ashik\\n\",\"What is my Brothers age?\\na. 12\\nb. 21\\nc. 25\\n\"],\n",
    "                         [\"b\",\"a\"],\n",
    "                          [20000,30000]]};\n",
    "\n",
    "\n",
    "dct = play(candidate)\n",
    "if dct:\n",
    "    b = -1\n",
    "    s = \"\"\n",
    "    for key,value in dct.items():\n",
    "        if(value>b):\n",
    "            b = value\n",
    "            s = key\n",
    "    print(f\"The winner is {s}, who wins {b}\")\n",
    "else:\n",
    "    print(\"No one wins the game\")\n",
    "     "
   ]
  },
  {
   "cell_type": "code",
   "execution_count": null,
   "id": "fa2655d1-52d3-4b17-b45e-6a5f2d04f234",
   "metadata": {},
   "outputs": [],
   "source": []
  }
 ],
 "metadata": {
  "kernelspec": {
   "display_name": "Python 3 (ipykernel)",
   "language": "python",
   "name": "python3"
  },
  "language_info": {
   "codemirror_mode": {
    "name": "ipython",
    "version": 3
   },
   "file_extension": ".py",
   "mimetype": "text/x-python",
   "name": "python",
   "nbconvert_exporter": "python",
   "pygments_lexer": "ipython3",
   "version": "3.13.2"
  }
 },
 "nbformat": 4,
 "nbformat_minor": 5
}
