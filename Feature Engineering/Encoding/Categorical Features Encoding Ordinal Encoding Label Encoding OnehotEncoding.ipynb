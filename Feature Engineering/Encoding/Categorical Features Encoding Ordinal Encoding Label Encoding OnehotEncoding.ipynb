{
 "cells": [
  {
   "cell_type": "markdown",
   "id": "illegal-abraham",
   "metadata": {},
   "source": [
    "## Feature Encoding in Machine Learning"
   ]
  },
  {
   "cell_type": "markdown",
   "id": "iraqi-seller",
   "metadata": {},
   "source": [
    "We can generally divide the categorical variables(features) into 3 types:\n",
    "\n",
    " - Binary: \n",
    " \n",
    "        (Yes, No) , (True, False) \n",
    "        \n",
    " - Ordinal: Specific ordered Groups.\n",
    "\n",
    "         economic status (“low income”,”middle income”,”high income”), \n",
    "         \n",
    "         education level (“high school”,”BS”,”MS”,”PhD”), \n",
    "         \n",
    "         income level (“less than 50K”, “50K-100K”, “over 100K”),\n",
    "         \n",
    "         satisfaction rating (“extremely dislike”, “dislike”, “neutral”, “like”, “extremely like”) \n",
    "        \n",
    " - Nominal : Unordered Groups.\n",
    " \n",
    "        (cat, dog, tiger),(pizza, burger, coke)"
   ]
  },
  {
   "cell_type": "code",
   "execution_count": 1,
   "id": "coordinate-brooks",
   "metadata": {},
   "outputs": [],
   "source": [
    "import pandas as pd\n",
    "import numpy as np\n",
    "import seaborn as sns\n",
    "import matplotlib.pyplot as plt"
   ]
  },
  {
   "cell_type": "code",
   "execution_count": 2,
   "id": "recreational-african",
   "metadata": {},
   "outputs": [],
   "source": [
    "# load the dataset\n",
    "df = pd.read_excel(\"https://raw.githubusercontent.com/atulpatelDS/Data_Files/master/Feature_Engineering/feature_encoding.xlsx\")"
   ]
  },
  {
   "cell_type": "code",
   "execution_count": 3,
   "id": "broken-amazon",
   "metadata": {},
   "outputs": [
    {
     "name": "stdout",
     "output_type": "stream",
     "text": [
      "<class 'pandas.core.frame.DataFrame'>\n",
      "RangeIndex: 26 entries, 0 to 25\n",
      "Data columns (total 7 columns):\n",
      " #   Column             Non-Null Count  Dtype \n",
      "---  ------             --------------  ----- \n",
      " 0   CUSTID             26 non-null     int64 \n",
      " 1   PAYMENT_MODE_CARD  26 non-null     object\n",
      " 2   CITY               26 non-null     object\n",
      " 3   RATING             26 non-null     object\n",
      " 4   EDUCATION          26 non-null     object\n",
      " 5   PURCHAGE_AMOUNT    26 non-null     int64 \n",
      " 6   CUSTOMER_TYPE      20 non-null     object\n",
      "dtypes: int64(2), object(5)\n",
      "memory usage: 1.6+ KB\n"
     ]
    }
   ],
   "source": [
    "df.info()"
   ]
  },
  {
   "cell_type": "code",
   "execution_count": 4,
   "id": "quick-purse",
   "metadata": {},
   "outputs": [],
   "source": [
    "df_train = df.loc[0:19]\n",
    "df_test = df.loc[20:]"
   ]
  },
  {
   "cell_type": "code",
   "execution_count": 5,
   "id": "generic-proportion",
   "metadata": {},
   "outputs": [],
   "source": [
    "# Lets examine the Binary, Ordinal and Nominal Data in the dataset.\n",
    "# Binary : \"PAYMENT_MODE_CARD\",\"CUSTOMER_TYPE\"\n",
    "# Ordinal : \"RATING\",\"EDUCATION\"\n",
    "# Nominal : \"CITY\""
   ]
  },
  {
   "cell_type": "markdown",
   "id": "offshore-departure",
   "metadata": {},
   "source": [
    "## Encoding of Binary Features\n",
    "\n",
    "- Binary datasets only have two (usable) values.\n",
    "- We can always use simple mapping on binary features. Like we can use replace, apply and ,any other way"
   ]
  },
  {
   "cell_type": "code",
   "execution_count": 6,
   "id": "median-military",
   "metadata": {},
   "outputs": [
    {
     "data": {
      "text/html": [
       "<div>\n",
       "<style scoped>\n",
       "    .dataframe tbody tr th:only-of-type {\n",
       "        vertical-align: middle;\n",
       "    }\n",
       "\n",
       "    .dataframe tbody tr th {\n",
       "        vertical-align: top;\n",
       "    }\n",
       "\n",
       "    .dataframe thead th {\n",
       "        text-align: right;\n",
       "    }\n",
       "</style>\n",
       "<table border=\"1\" class=\"dataframe\">\n",
       "  <thead>\n",
       "    <tr style=\"text-align: right;\">\n",
       "      <th></th>\n",
       "      <th>CUSTID</th>\n",
       "      <th>PAYMENT_MODE_CARD</th>\n",
       "      <th>CITY</th>\n",
       "      <th>RATING</th>\n",
       "      <th>EDUCATION</th>\n",
       "      <th>PURCHAGE_AMOUNT</th>\n",
       "      <th>CUSTOMER_TYPE</th>\n",
       "    </tr>\n",
       "  </thead>\n",
       "  <tbody>\n",
       "    <tr>\n",
       "      <th>0</th>\n",
       "      <td>1</td>\n",
       "      <td>Y</td>\n",
       "      <td>A</td>\n",
       "      <td>extremely like</td>\n",
       "      <td>phd</td>\n",
       "      <td>200</td>\n",
       "      <td>Premium</td>\n",
       "    </tr>\n",
       "    <tr>\n",
       "      <th>1</th>\n",
       "      <td>2</td>\n",
       "      <td>N</td>\n",
       "      <td>A</td>\n",
       "      <td>like</td>\n",
       "      <td>ms</td>\n",
       "      <td>100</td>\n",
       "      <td>NonPremium</td>\n",
       "    </tr>\n",
       "    <tr>\n",
       "      <th>2</th>\n",
       "      <td>3</td>\n",
       "      <td>Y</td>\n",
       "      <td>C</td>\n",
       "      <td>neutral</td>\n",
       "      <td>bs</td>\n",
       "      <td>130</td>\n",
       "      <td>NonPremium</td>\n",
       "    </tr>\n",
       "    <tr>\n",
       "      <th>3</th>\n",
       "      <td>4</td>\n",
       "      <td>Y</td>\n",
       "      <td>B</td>\n",
       "      <td>extremely dislike</td>\n",
       "      <td>bs</td>\n",
       "      <td>120</td>\n",
       "      <td>NonPremium</td>\n",
       "    </tr>\n",
       "    <tr>\n",
       "      <th>4</th>\n",
       "      <td>5</td>\n",
       "      <td>Y</td>\n",
       "      <td>D</td>\n",
       "      <td>extremely like</td>\n",
       "      <td>ms</td>\n",
       "      <td>160</td>\n",
       "      <td>Premium</td>\n",
       "    </tr>\n",
       "  </tbody>\n",
       "</table>\n",
       "</div>"
      ],
      "text/plain": [
       "   CUSTID PAYMENT_MODE_CARD CITY             RATING EDUCATION  \\\n",
       "0       1                 Y    A     extremely like       phd   \n",
       "1       2                 N    A               like        ms   \n",
       "2       3                 Y    C            neutral        bs   \n",
       "3       4                 Y    B  extremely dislike        bs   \n",
       "4       5                 Y    D     extremely like        ms   \n",
       "\n",
       "   PURCHAGE_AMOUNT CUSTOMER_TYPE  \n",
       "0              200       Premium  \n",
       "1              100    NonPremium  \n",
       "2              130    NonPremium  \n",
       "3              120    NonPremium  \n",
       "4              160       Premium  "
      ]
     },
     "execution_count": 6,
     "metadata": {},
     "output_type": "execute_result"
    }
   ],
   "source": [
    "df_train.head()"
   ]
  },
  {
   "cell_type": "code",
   "execution_count": 7,
   "id": "nonprofit-journal",
   "metadata": {},
   "outputs": [],
   "source": [
    "df_train = df_train.copy()"
   ]
  },
  {
   "cell_type": "code",
   "execution_count": 8,
   "id": "prostate-chase",
   "metadata": {},
   "outputs": [],
   "source": [
    "df_train['PAYMENT_MODE_CARD'] = df_train['PAYMENT_MODE_CARD'].map({'Y':1,'N':0})"
   ]
  },
  {
   "cell_type": "code",
   "execution_count": 9,
   "id": "tamil-waste",
   "metadata": {},
   "outputs": [
    {
     "data": {
      "text/html": [
       "<div>\n",
       "<style scoped>\n",
       "    .dataframe tbody tr th:only-of-type {\n",
       "        vertical-align: middle;\n",
       "    }\n",
       "\n",
       "    .dataframe tbody tr th {\n",
       "        vertical-align: top;\n",
       "    }\n",
       "\n",
       "    .dataframe thead th {\n",
       "        text-align: right;\n",
       "    }\n",
       "</style>\n",
       "<table border=\"1\" class=\"dataframe\">\n",
       "  <thead>\n",
       "    <tr style=\"text-align: right;\">\n",
       "      <th></th>\n",
       "      <th>CUSTID</th>\n",
       "      <th>PAYMENT_MODE_CARD</th>\n",
       "      <th>CITY</th>\n",
       "      <th>RATING</th>\n",
       "      <th>EDUCATION</th>\n",
       "      <th>PURCHAGE_AMOUNT</th>\n",
       "      <th>CUSTOMER_TYPE</th>\n",
       "    </tr>\n",
       "  </thead>\n",
       "  <tbody>\n",
       "    <tr>\n",
       "      <th>0</th>\n",
       "      <td>1</td>\n",
       "      <td>1</td>\n",
       "      <td>A</td>\n",
       "      <td>extremely like</td>\n",
       "      <td>phd</td>\n",
       "      <td>200</td>\n",
       "      <td>Premium</td>\n",
       "    </tr>\n",
       "    <tr>\n",
       "      <th>1</th>\n",
       "      <td>2</td>\n",
       "      <td>0</td>\n",
       "      <td>A</td>\n",
       "      <td>like</td>\n",
       "      <td>ms</td>\n",
       "      <td>100</td>\n",
       "      <td>NonPremium</td>\n",
       "    </tr>\n",
       "  </tbody>\n",
       "</table>\n",
       "</div>"
      ],
      "text/plain": [
       "   CUSTID  PAYMENT_MODE_CARD CITY          RATING EDUCATION  PURCHAGE_AMOUNT  \\\n",
       "0       1                  1    A  extremely like       phd              200   \n",
       "1       2                  0    A            like        ms              100   \n",
       "\n",
       "  CUSTOMER_TYPE  \n",
       "0       Premium  \n",
       "1    NonPremium  "
      ]
     },
     "execution_count": 9,
     "metadata": {},
     "output_type": "execute_result"
    }
   ],
   "source": [
    "df_train.head(2)"
   ]
  },
  {
   "cell_type": "markdown",
   "id": "occupied-berkeley",
   "metadata": {},
   "source": [
    "## Feature Encoding of Ordinal Features"
   ]
  },
  {
   "cell_type": "markdown",
   "id": "physical-truth",
   "metadata": {},
   "source": [
    " - We use this categorical data encoding technique when the categorical feature is ordinal. In this case, retaining the  order is important. Hence encoding should reflect the sequence.\n",
    " - In encoding, each label is converted into an integer value."
   ]
  },
  {
   "cell_type": "markdown",
   "id": "sweet-exhaust",
   "metadata": {},
   "source": [
    "### OrdinalEncoder- Sklearn"
   ]
  },
  {
   "cell_type": "markdown",
   "id": "greatest-patrick",
   "metadata": {},
   "source": [
    "In this technique, each label is assigned a unique integer based on alphabetical ordering."
   ]
  },
  {
   "cell_type": "code",
   "execution_count": 10,
   "id": "reserved-thirty",
   "metadata": {
    "scrolled": true
   },
   "outputs": [
    {
     "data": {
      "text/html": [
       "<div>\n",
       "<style scoped>\n",
       "    .dataframe tbody tr th:only-of-type {\n",
       "        vertical-align: middle;\n",
       "    }\n",
       "\n",
       "    .dataframe tbody tr th {\n",
       "        vertical-align: top;\n",
       "    }\n",
       "\n",
       "    .dataframe thead th {\n",
       "        text-align: right;\n",
       "    }\n",
       "</style>\n",
       "<table border=\"1\" class=\"dataframe\">\n",
       "  <thead>\n",
       "    <tr style=\"text-align: right;\">\n",
       "      <th></th>\n",
       "      <th>CUSTID</th>\n",
       "      <th>PAYMENT_MODE_CARD</th>\n",
       "      <th>CITY</th>\n",
       "      <th>RATING</th>\n",
       "      <th>EDUCATION</th>\n",
       "      <th>PURCHAGE_AMOUNT</th>\n",
       "      <th>CUSTOMER_TYPE</th>\n",
       "    </tr>\n",
       "  </thead>\n",
       "  <tbody>\n",
       "    <tr>\n",
       "      <th>0</th>\n",
       "      <td>1</td>\n",
       "      <td>1</td>\n",
       "      <td>A</td>\n",
       "      <td>extremely like</td>\n",
       "      <td>phd</td>\n",
       "      <td>200</td>\n",
       "      <td>Premium</td>\n",
       "    </tr>\n",
       "    <tr>\n",
       "      <th>1</th>\n",
       "      <td>2</td>\n",
       "      <td>0</td>\n",
       "      <td>A</td>\n",
       "      <td>like</td>\n",
       "      <td>ms</td>\n",
       "      <td>100</td>\n",
       "      <td>NonPremium</td>\n",
       "    </tr>\n",
       "    <tr>\n",
       "      <th>2</th>\n",
       "      <td>3</td>\n",
       "      <td>1</td>\n",
       "      <td>C</td>\n",
       "      <td>neutral</td>\n",
       "      <td>bs</td>\n",
       "      <td>130</td>\n",
       "      <td>NonPremium</td>\n",
       "    </tr>\n",
       "    <tr>\n",
       "      <th>3</th>\n",
       "      <td>4</td>\n",
       "      <td>1</td>\n",
       "      <td>B</td>\n",
       "      <td>extremely dislike</td>\n",
       "      <td>bs</td>\n",
       "      <td>120</td>\n",
       "      <td>NonPremium</td>\n",
       "    </tr>\n",
       "    <tr>\n",
       "      <th>4</th>\n",
       "      <td>5</td>\n",
       "      <td>1</td>\n",
       "      <td>D</td>\n",
       "      <td>extremely like</td>\n",
       "      <td>ms</td>\n",
       "      <td>160</td>\n",
       "      <td>Premium</td>\n",
       "    </tr>\n",
       "  </tbody>\n",
       "</table>\n",
       "</div>"
      ],
      "text/plain": [
       "   CUSTID  PAYMENT_MODE_CARD CITY             RATING EDUCATION  \\\n",
       "0       1                  1    A     extremely like       phd   \n",
       "1       2                  0    A               like        ms   \n",
       "2       3                  1    C            neutral        bs   \n",
       "3       4                  1    B  extremely dislike        bs   \n",
       "4       5                  1    D     extremely like        ms   \n",
       "\n",
       "   PURCHAGE_AMOUNT CUSTOMER_TYPE  \n",
       "0              200       Premium  \n",
       "1              100    NonPremium  \n",
       "2              130    NonPremium  \n",
       "3              120    NonPremium  \n",
       "4              160       Premium  "
      ]
     },
     "execution_count": 10,
     "metadata": {},
     "output_type": "execute_result"
    }
   ],
   "source": [
    "df_train.head()"
   ]
  },
  {
   "cell_type": "code",
   "execution_count": 11,
   "id": "bde0eac4-e5ad-4442-a95c-8ef724ee49bf",
   "metadata": {},
   "outputs": [],
   "source": [
    "from sklearn.preprocessing import OrdinalEncoder\n",
    "oenc_feat = OrdinalEncoder()\n",
    "df_train[[\"RATING\",'EDUCATION']] = oenc_feat.fit_transform(df_train[[\"RATING\",'EDUCATION']])"
   ]
  },
  {
   "cell_type": "code",
   "execution_count": 12,
   "id": "e7efc83a-ce15-4194-a7df-91ba85cef1b6",
   "metadata": {},
   "outputs": [
    {
     "data": {
      "text/html": [
       "<div>\n",
       "<style scoped>\n",
       "    .dataframe tbody tr th:only-of-type {\n",
       "        vertical-align: middle;\n",
       "    }\n",
       "\n",
       "    .dataframe tbody tr th {\n",
       "        vertical-align: top;\n",
       "    }\n",
       "\n",
       "    .dataframe thead th {\n",
       "        text-align: right;\n",
       "    }\n",
       "</style>\n",
       "<table border=\"1\" class=\"dataframe\">\n",
       "  <thead>\n",
       "    <tr style=\"text-align: right;\">\n",
       "      <th></th>\n",
       "      <th>CUSTID</th>\n",
       "      <th>PAYMENT_MODE_CARD</th>\n",
       "      <th>CITY</th>\n",
       "      <th>RATING</th>\n",
       "      <th>EDUCATION</th>\n",
       "      <th>PURCHAGE_AMOUNT</th>\n",
       "      <th>CUSTOMER_TYPE</th>\n",
       "    </tr>\n",
       "  </thead>\n",
       "  <tbody>\n",
       "    <tr>\n",
       "      <th>0</th>\n",
       "      <td>1</td>\n",
       "      <td>1</td>\n",
       "      <td>A</td>\n",
       "      <td>2.0</td>\n",
       "      <td>2.0</td>\n",
       "      <td>200</td>\n",
       "      <td>Premium</td>\n",
       "    </tr>\n",
       "    <tr>\n",
       "      <th>1</th>\n",
       "      <td>2</td>\n",
       "      <td>0</td>\n",
       "      <td>A</td>\n",
       "      <td>3.0</td>\n",
       "      <td>1.0</td>\n",
       "      <td>100</td>\n",
       "      <td>NonPremium</td>\n",
       "    </tr>\n",
       "  </tbody>\n",
       "</table>\n",
       "</div>"
      ],
      "text/plain": [
       "   CUSTID  PAYMENT_MODE_CARD CITY  RATING  EDUCATION  PURCHAGE_AMOUNT  \\\n",
       "0       1                  1    A     2.0        2.0              200   \n",
       "1       2                  0    A     3.0        1.0              100   \n",
       "\n",
       "  CUSTOMER_TYPE  \n",
       "0       Premium  \n",
       "1    NonPremium  "
      ]
     },
     "execution_count": 12,
     "metadata": {},
     "output_type": "execute_result"
    }
   ],
   "source": [
    "df_train.head(2)"
   ]
  },
  {
   "cell_type": "markdown",
   "id": "fewer-token",
   "metadata": {},
   "source": [
    "### LabelEncoder- Sklearn"
   ]
  },
  {
   "cell_type": "markdown",
   "id": "ethical-knock",
   "metadata": {},
   "source": [
    " - In this technique, each label is assigned a unique integer based on alphabetical ordering.\n",
    " - Encode target labels with value between 0 and n_classes-1"
   ]
  },
  {
   "cell_type": "code",
   "execution_count": 13,
   "id": "confidential-tribe",
   "metadata": {},
   "outputs": [],
   "source": [
    "from sklearn.preprocessing import LabelEncoder\n",
    "lenc = LabelEncoder()"
   ]
  },
  {
   "cell_type": "code",
   "execution_count": 14,
   "id": "blocked-tumor",
   "metadata": {},
   "outputs": [
    {
     "data": {
      "text/html": [
       "<div>\n",
       "<style scoped>\n",
       "    .dataframe tbody tr th:only-of-type {\n",
       "        vertical-align: middle;\n",
       "    }\n",
       "\n",
       "    .dataframe tbody tr th {\n",
       "        vertical-align: top;\n",
       "    }\n",
       "\n",
       "    .dataframe thead th {\n",
       "        text-align: right;\n",
       "    }\n",
       "</style>\n",
       "<table border=\"1\" class=\"dataframe\">\n",
       "  <thead>\n",
       "    <tr style=\"text-align: right;\">\n",
       "      <th></th>\n",
       "      <th>CUSTID</th>\n",
       "      <th>PAYMENT_MODE_CARD</th>\n",
       "      <th>CITY</th>\n",
       "      <th>RATING</th>\n",
       "      <th>EDUCATION</th>\n",
       "      <th>PURCHAGE_AMOUNT</th>\n",
       "      <th>CUSTOMER_TYPE</th>\n",
       "    </tr>\n",
       "  </thead>\n",
       "  <tbody>\n",
       "    <tr>\n",
       "      <th>0</th>\n",
       "      <td>1</td>\n",
       "      <td>1</td>\n",
       "      <td>A</td>\n",
       "      <td>2</td>\n",
       "      <td>2.0</td>\n",
       "      <td>200</td>\n",
       "      <td>Premium</td>\n",
       "    </tr>\n",
       "    <tr>\n",
       "      <th>1</th>\n",
       "      <td>2</td>\n",
       "      <td>0</td>\n",
       "      <td>A</td>\n",
       "      <td>3</td>\n",
       "      <td>1.0</td>\n",
       "      <td>100</td>\n",
       "      <td>NonPremium</td>\n",
       "    </tr>\n",
       "  </tbody>\n",
       "</table>\n",
       "</div>"
      ],
      "text/plain": [
       "   CUSTID  PAYMENT_MODE_CARD CITY  RATING  EDUCATION  PURCHAGE_AMOUNT  \\\n",
       "0       1                  1    A       2        2.0              200   \n",
       "1       2                  0    A       3        1.0              100   \n",
       "\n",
       "  CUSTOMER_TYPE  \n",
       "0       Premium  \n",
       "1    NonPremium  "
      ]
     },
     "execution_count": 14,
     "metadata": {},
     "output_type": "execute_result"
    }
   ],
   "source": [
    "df_train['RATING'] =lenc.fit_transform(df_train[\"RATING\"]) # only one column\n",
    "df_train.head(2)"
   ]
  },
  {
   "cell_type": "markdown",
   "id": "regional-paintball",
   "metadata": {},
   "source": [
    "## Feature Encoding of Nominal Features"
   ]
  },
  {
   "cell_type": "markdown",
   "id": "powered-papua",
   "metadata": {},
   "source": []
  },
  {
   "cell_type": "markdown",
   "id": "supposed-conducting",
   "metadata": {},
   "source": [
    "### One-Hot Encoding"
   ]
  },
  {
   "cell_type": "markdown",
   "id": "protecting-internship",
   "metadata": {},
   "source": [
    "- Every unique value in the category will be added as a feature and represented as a one-hot vector.\n",
    "- Each category is mapped with a binary variable containing either 0 or 1. Here, 0 represents the absence, and 1 represents the presence of that category.\n",
    "- These newly created binary features are known as Dummy variables. \n",
    "- The number of dummy variables depends on the levels present in the categorical variable.\n"
   ]
  },
  {
   "cell_type": "markdown",
   "id": "mobile-chemistry",
   "metadata": {},
   "source": [
    "- Suppose we have a dataset with a category \"City\", having different cities like \"Delhi\", \"Mumbai\", \"Bangalore\",\"Pune\". so lets understand how we can encode the one-hot encoding on this CITY feature."
   ]
  },
  {
   "cell_type": "code",
   "execution_count": 15,
   "id": "opposite-madrid",
   "metadata": {},
   "outputs": [
    {
     "data": {
      "text/html": [
       "<div>\n",
       "<style scoped>\n",
       "    .dataframe tbody tr th:only-of-type {\n",
       "        vertical-align: middle;\n",
       "    }\n",
       "\n",
       "    .dataframe tbody tr th {\n",
       "        vertical-align: top;\n",
       "    }\n",
       "\n",
       "    .dataframe thead th {\n",
       "        text-align: right;\n",
       "    }\n",
       "</style>\n",
       "<table border=\"1\" class=\"dataframe\">\n",
       "  <thead>\n",
       "    <tr style=\"text-align: right;\">\n",
       "      <th></th>\n",
       "      <th>CUSTID</th>\n",
       "      <th>PAYMENT_MODE_CARD</th>\n",
       "      <th>CITY</th>\n",
       "      <th>RATING</th>\n",
       "      <th>EDUCATION</th>\n",
       "      <th>PURCHAGE_AMOUNT</th>\n",
       "      <th>CUSTOMER_TYPE</th>\n",
       "      <th>B</th>\n",
       "      <th>C</th>\n",
       "      <th>D</th>\n",
       "    </tr>\n",
       "  </thead>\n",
       "  <tbody>\n",
       "    <tr>\n",
       "      <th>0</th>\n",
       "      <td>1</td>\n",
       "      <td>1</td>\n",
       "      <td>A</td>\n",
       "      <td>2</td>\n",
       "      <td>2.0</td>\n",
       "      <td>200</td>\n",
       "      <td>Premium</td>\n",
       "      <td>0</td>\n",
       "      <td>0</td>\n",
       "      <td>0</td>\n",
       "    </tr>\n",
       "    <tr>\n",
       "      <th>1</th>\n",
       "      <td>2</td>\n",
       "      <td>0</td>\n",
       "      <td>A</td>\n",
       "      <td>3</td>\n",
       "      <td>1.0</td>\n",
       "      <td>100</td>\n",
       "      <td>NonPremium</td>\n",
       "      <td>0</td>\n",
       "      <td>0</td>\n",
       "      <td>0</td>\n",
       "    </tr>\n",
       "  </tbody>\n",
       "</table>\n",
       "</div>"
      ],
      "text/plain": [
       "   CUSTID  PAYMENT_MODE_CARD CITY  RATING  EDUCATION  PURCHAGE_AMOUNT  \\\n",
       "0       1                  1    A       2        2.0              200   \n",
       "1       2                  0    A       3        1.0              100   \n",
       "\n",
       "  CUSTOMER_TYPE  B  C  D  \n",
       "0       Premium  0  0  0  \n",
       "1    NonPremium  0  0  0  "
      ]
     },
     "execution_count": 15,
     "metadata": {},
     "output_type": "execute_result"
    }
   ],
   "source": [
    "df_train_dummy = pd.get_dummies(df_train[\"CITY\"],drop_first=True)  # Can be done by sklearn as well\n",
    "df_train = pd.concat([df_train,df_train_dummy.astype(int)],axis = 1)\n",
    "df_train.head(2)"
   ]
  },
  {
   "cell_type": "markdown",
   "id": "serious-convenience",
   "metadata": {},
   "source": [
    "### Frequency Encoding for Feature Encoding in Machine Learning"
   ]
  },
  {
   "cell_type": "markdown",
   "id": "juvenile-holly",
   "metadata": {},
   "source": [
    "We can also encode considering the frequency distribution. This method can be effective at times for nominal features."
   ]
  },
  {
   "cell_type": "code",
   "execution_count": 25,
   "id": "planned-venezuela",
   "metadata": {},
   "outputs": [
    {
     "data": {
      "text/html": [
       "<div>\n",
       "<style scoped>\n",
       "    .dataframe tbody tr th:only-of-type {\n",
       "        vertical-align: middle;\n",
       "    }\n",
       "\n",
       "    .dataframe tbody tr th {\n",
       "        vertical-align: top;\n",
       "    }\n",
       "\n",
       "    .dataframe thead th {\n",
       "        text-align: right;\n",
       "    }\n",
       "</style>\n",
       "<table border=\"1\" class=\"dataframe\">\n",
       "  <thead>\n",
       "    <tr style=\"text-align: right;\">\n",
       "      <th></th>\n",
       "      <th>CUSTID</th>\n",
       "      <th>PAYMENT_MODE_CARD</th>\n",
       "      <th>CITY</th>\n",
       "      <th>RATING</th>\n",
       "      <th>EDUCATION</th>\n",
       "      <th>PURCHAGE_AMOUNT</th>\n",
       "      <th>CUSTOMER_TYPE</th>\n",
       "      <th>B</th>\n",
       "      <th>C</th>\n",
       "      <th>D</th>\n",
       "    </tr>\n",
       "  </thead>\n",
       "  <tbody>\n",
       "    <tr>\n",
       "      <th>0</th>\n",
       "      <td>1</td>\n",
       "      <td>1</td>\n",
       "      <td>A</td>\n",
       "      <td>2</td>\n",
       "      <td>2.0</td>\n",
       "      <td>200</td>\n",
       "      <td>Premium</td>\n",
       "      <td>0</td>\n",
       "      <td>0</td>\n",
       "      <td>0</td>\n",
       "    </tr>\n",
       "    <tr>\n",
       "      <th>1</th>\n",
       "      <td>2</td>\n",
       "      <td>0</td>\n",
       "      <td>A</td>\n",
       "      <td>3</td>\n",
       "      <td>1.0</td>\n",
       "      <td>100</td>\n",
       "      <td>NonPremium</td>\n",
       "      <td>0</td>\n",
       "      <td>0</td>\n",
       "      <td>0</td>\n",
       "    </tr>\n",
       "  </tbody>\n",
       "</table>\n",
       "</div>"
      ],
      "text/plain": [
       "   CUSTID  PAYMENT_MODE_CARD CITY  RATING  EDUCATION  PURCHAGE_AMOUNT  \\\n",
       "0       1                  1    A       2        2.0              200   \n",
       "1       2                  0    A       3        1.0              100   \n",
       "\n",
       "  CUSTOMER_TYPE  B  C  D  \n",
       "0       Premium  0  0  0  \n",
       "1    NonPremium  0  0  0  "
      ]
     },
     "execution_count": 25,
     "metadata": {},
     "output_type": "execute_result"
    }
   ],
   "source": [
    "df_train.head(2)"
   ]
  },
  {
   "cell_type": "code",
   "execution_count": 17,
   "id": "wireless-ceiling",
   "metadata": {},
   "outputs": [],
   "source": [
    "# Lets group the \"CITY\" variable by frequency\n",
    "frq = df_train.groupby(\"CITY\").size()"
   ]
  },
  {
   "cell_type": "code",
   "execution_count": 18,
   "id": "every-cable",
   "metadata": {},
   "outputs": [
    {
     "data": {
      "text/plain": [
       "CITY\n",
       "A    7\n",
       "B    6\n",
       "C    4\n",
       "D    3\n",
       "dtype: int64"
      ]
     },
     "execution_count": 18,
     "metadata": {},
     "output_type": "execute_result"
    }
   ],
   "source": [
    "frq"
   ]
  },
  {
   "cell_type": "code",
   "execution_count": 19,
   "id": "awful-input",
   "metadata": {},
   "outputs": [
    {
     "data": {
      "text/plain": [
       "20"
      ]
     },
     "execution_count": 19,
     "metadata": {},
     "output_type": "execute_result"
    }
   ],
   "source": [
    "len(df_train)"
   ]
  },
  {
   "cell_type": "code",
   "execution_count": 37,
   "id": "addressed-living",
   "metadata": {},
   "outputs": [
    {
     "data": {
      "text/plain": [
       "CITY\n",
       "A    0.50\n",
       "B    0.45\n",
       "C    0.20\n",
       "D    0.15\n",
       "dtype: float64"
      ]
     },
     "execution_count": 37,
     "metadata": {},
     "output_type": "execute_result"
    }
   ],
   "source": [
    "frq_dis = (df.groupby(\"CITY\").size())/len(df_train)\n",
    "frq_dis"
   ]
  },
  {
   "cell_type": "code",
   "execution_count": 38,
   "id": "unable-newspaper",
   "metadata": {},
   "outputs": [],
   "source": [
    "df_train[\"CITY_FRQ_ENC\"] = df_train.CITY.map(frq_dis)"
   ]
  },
  {
   "cell_type": "code",
   "execution_count": 40,
   "id": "clear-crazy",
   "metadata": {},
   "outputs": [
    {
     "data": {
      "text/html": [
       "<div>\n",
       "<style scoped>\n",
       "    .dataframe tbody tr th:only-of-type {\n",
       "        vertical-align: middle;\n",
       "    }\n",
       "\n",
       "    .dataframe tbody tr th {\n",
       "        vertical-align: top;\n",
       "    }\n",
       "\n",
       "    .dataframe thead th {\n",
       "        text-align: right;\n",
       "    }\n",
       "</style>\n",
       "<table border=\"1\" class=\"dataframe\">\n",
       "  <thead>\n",
       "    <tr style=\"text-align: right;\">\n",
       "      <th></th>\n",
       "      <th>CUSTID</th>\n",
       "      <th>PAYMENT_MODE_CARD</th>\n",
       "      <th>CITY</th>\n",
       "      <th>RATING</th>\n",
       "      <th>EDUCATION</th>\n",
       "      <th>PURCHAGE_AMOUNT</th>\n",
       "      <th>CUSTOMER_TYPE</th>\n",
       "      <th>B</th>\n",
       "      <th>C</th>\n",
       "      <th>D</th>\n",
       "      <th>CITY_FRQ_ENC</th>\n",
       "    </tr>\n",
       "  </thead>\n",
       "  <tbody>\n",
       "    <tr>\n",
       "      <th>0</th>\n",
       "      <td>1</td>\n",
       "      <td>1</td>\n",
       "      <td>A</td>\n",
       "      <td>2</td>\n",
       "      <td>2.0</td>\n",
       "      <td>200</td>\n",
       "      <td>Premium</td>\n",
       "      <td>0</td>\n",
       "      <td>0</td>\n",
       "      <td>0</td>\n",
       "      <td>0.5</td>\n",
       "    </tr>\n",
       "    <tr>\n",
       "      <th>1</th>\n",
       "      <td>2</td>\n",
       "      <td>0</td>\n",
       "      <td>A</td>\n",
       "      <td>3</td>\n",
       "      <td>1.0</td>\n",
       "      <td>100</td>\n",
       "      <td>NonPremium</td>\n",
       "      <td>0</td>\n",
       "      <td>0</td>\n",
       "      <td>0</td>\n",
       "      <td>0.5</td>\n",
       "    </tr>\n",
       "  </tbody>\n",
       "</table>\n",
       "</div>"
      ],
      "text/plain": [
       "   CUSTID  PAYMENT_MODE_CARD CITY  RATING  EDUCATION  PURCHAGE_AMOUNT  \\\n",
       "0       1                  1    A       2        2.0              200   \n",
       "1       2                  0    A       3        1.0              100   \n",
       "\n",
       "  CUSTOMER_TYPE  B  C  D  CITY_FRQ_ENC  \n",
       "0       Premium  0  0  0           0.5  \n",
       "1    NonPremium  0  0  0           0.5  "
      ]
     },
     "execution_count": 40,
     "metadata": {},
     "output_type": "execute_result"
    }
   ],
   "source": [
    "df_train.head(2)"
   ]
  }
 ],
 "metadata": {
  "kernelspec": {
   "display_name": "Python 3 (ipykernel)",
   "language": "python",
   "name": "python3"
  },
  "language_info": {
   "codemirror_mode": {
    "name": "ipython",
    "version": 3
   },
   "file_extension": ".py",
   "mimetype": "text/x-python",
   "name": "python",
   "nbconvert_exporter": "python",
   "pygments_lexer": "ipython3",
   "version": "3.13.2"
  }
 },
 "nbformat": 4,
 "nbformat_minor": 5
}
